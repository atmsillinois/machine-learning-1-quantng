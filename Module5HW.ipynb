{
  "cells": [
    {
      "cell_type": "code",
      "execution_count": 7,
      "metadata": {
        "id": "j9bEDa7lv-M_"
      },
      "outputs": [],
      "source": [
        "import pandas as pd\n",
        "import numpy as np\n",
        "from sklearn.model_selection import train_test_split, cross_val_score, GridSearchCV\n",
        "from sklearn.linear_model import LinearRegression\n",
        "from sklearn.metrics import mean_squared_error, r2_score\n",
        "from sklearn.preprocessing import PolynomialFeatures\n",
        "from sklearn.pipeline import make_pipeline\n",
        "from sklearn.ensemble import RandomForestRegressor\n",
        "\n",
        "# Loading the data\n",
        "df_raw = pd.read_csv('homework\\\\radar_parameters.csv')\n",
        "df = df_raw.drop(columns=['Unnamed: 0'])"
      ]
    },
    {
      "cell_type": "code",
      "execution_count": 8,
      "metadata": {
        "colab": {
          "base_uri": "https://localhost:8080/",
          "height": 206
        },
        "id": "zeN0xQL0AI9G",
        "outputId": "5d712baa-63cb-423b-e1e4-ff5d50699052"
      },
      "outputs": [
        {
          "data": {
            "text/html": [
              "<div>\n",
              "<style scoped>\n",
              "    .dataframe tbody tr th:only-of-type {\n",
              "        vertical-align: middle;\n",
              "    }\n",
              "\n",
              "    .dataframe tbody tr th {\n",
              "        vertical-align: top;\n",
              "    }\n",
              "\n",
              "    .dataframe thead th {\n",
              "        text-align: right;\n",
              "    }\n",
              "</style>\n",
              "<table border=\"1\" class=\"dataframe\">\n",
              "  <thead>\n",
              "    <tr style=\"text-align: right;\">\n",
              "      <th></th>\n",
              "      <th>Zh (dBZ)</th>\n",
              "      <th>Zdr (dB)</th>\n",
              "      <th>Ldr (dB)</th>\n",
              "      <th>Kdp (deg km-1)</th>\n",
              "      <th>Ah (dBZ/km)</th>\n",
              "      <th>Adr (dB/km)</th>\n",
              "      <th>R (mm/hr)</th>\n",
              "    </tr>\n",
              "  </thead>\n",
              "  <tbody>\n",
              "    <tr>\n",
              "      <th>0</th>\n",
              "      <td>23.144878</td>\n",
              "      <td>0.418637</td>\n",
              "      <td>-41.757733</td>\n",
              "      <td>0.005395</td>\n",
              "      <td>0.000290</td>\n",
              "      <td>0.000012</td>\n",
              "      <td>2.393520</td>\n",
              "    </tr>\n",
              "    <tr>\n",
              "      <th>1</th>\n",
              "      <td>22.737156</td>\n",
              "      <td>0.322850</td>\n",
              "      <td>-43.772069</td>\n",
              "      <td>0.005194</td>\n",
              "      <td>0.000360</td>\n",
              "      <td>0.000012</td>\n",
              "      <td>3.502699</td>\n",
              "    </tr>\n",
              "    <tr>\n",
              "      <th>2</th>\n",
              "      <td>26.869826</td>\n",
              "      <td>0.330948</td>\n",
              "      <td>-43.577399</td>\n",
              "      <td>0.013385</td>\n",
              "      <td>0.000903</td>\n",
              "      <td>0.000030</td>\n",
              "      <td>8.627561</td>\n",
              "    </tr>\n",
              "    <tr>\n",
              "      <th>3</th>\n",
              "      <td>28.540561</td>\n",
              "      <td>0.399480</td>\n",
              "      <td>-42.139731</td>\n",
              "      <td>0.018872</td>\n",
              "      <td>0.001036</td>\n",
              "      <td>0.000043</td>\n",
              "      <td>8.424447</td>\n",
              "    </tr>\n",
              "    <tr>\n",
              "      <th>4</th>\n",
              "      <td>30.500127</td>\n",
              "      <td>0.543758</td>\n",
              "      <td>-39.763087</td>\n",
              "      <td>0.027438</td>\n",
              "      <td>0.001157</td>\n",
              "      <td>0.000064</td>\n",
              "      <td>8.189291</td>\n",
              "    </tr>\n",
              "  </tbody>\n",
              "</table>\n",
              "</div>"
            ],
            "text/plain": [
              "    Zh (dBZ)  Zdr (dB)   Ldr (dB)  Kdp (deg km-1)  Ah (dBZ/km)  Adr (dB/km)  \\\n",
              "0  23.144878  0.418637 -41.757733        0.005395     0.000290     0.000012   \n",
              "1  22.737156  0.322850 -43.772069        0.005194     0.000360     0.000012   \n",
              "2  26.869826  0.330948 -43.577399        0.013385     0.000903     0.000030   \n",
              "3  28.540561  0.399480 -42.139731        0.018872     0.001036     0.000043   \n",
              "4  30.500127  0.543758 -39.763087        0.027438     0.001157     0.000064   \n",
              "\n",
              "   R (mm/hr)  \n",
              "0   2.393520  \n",
              "1   3.502699  \n",
              "2   8.627561  \n",
              "3   8.424447  \n",
              "4   8.189291  "
            ]
          },
          "execution_count": 8,
          "metadata": {},
          "output_type": "execute_result"
        }
      ],
      "source": [
        "df.head()"
      ]
    },
    {
      "cell_type": "code",
      "execution_count": 9,
      "metadata": {
        "id": "jTXA7oQQACye"
      },
      "outputs": [],
      "source": [
        "#Splitting the data into training and testing sets:\n",
        "\n",
        "from sklearn.model_selection import train_test_split\n",
        "\n",
        "X = df.drop('R (mm/hr)', axis=1)\n",
        "y = df['R (mm/hr)']\n",
        "\n",
        "X_train, X_test, y_train, y_test = train_test_split(X, y, test_size=0.3, random_state=42)"
      ]
    },
    {
      "cell_type": "code",
      "execution_count": 10,
      "metadata": {
        "colab": {
          "base_uri": "https://localhost:8080/"
        },
        "id": "39fSkD_LAg6e",
        "outputId": "d8ac95cc-efda-4e64-9f4d-0ab53aee3c2b"
      },
      "outputs": [
        {
          "name": "stdout",
          "output_type": "stream",
          "text": [
            "Training R^2: 0.9879085512445995\n",
            "Testing R^2: 0.9890992951689395\n",
            "Training RMSE: 0.9229401590287889\n",
            "Testing RMSE: 0.9358124742087004\n"
          ]
        }
      ],
      "source": [
        "#Training a multiple linear regression model:\n",
        "from sklearn.linear_model import LinearRegression\n",
        "from sklearn.metrics import mean_squared_error, r2_score\n",
        "\n",
        "lr = LinearRegression()\n",
        "lr.fit(X_train, y_train)\n",
        "\n",
        "y_train_pred = lr.predict(X_train)\n",
        "y_test_pred = lr.predict(X_test)\n",
        "\n",
        "print(\"Training R^2:\", r2_score(y_train, y_train_pred))\n",
        "print(\"Testing R^2:\", r2_score(y_test, y_test_pred))\n",
        "print(\"Training RMSE:\", np.sqrt(mean_squared_error(y_train, y_train_pred)))\n",
        "print(\"Testing RMSE:\", np.sqrt(mean_squared_error(y_test, y_test_pred)))"
      ]
    },
    {
      "cell_type": "code",
      "execution_count": 5,
      "metadata": {
        "colab": {
          "base_uri": "https://localhost:8080/"
        },
        "id": "WkNhXDv1Aiw2",
        "outputId": "d8a71393-5b70-482f-8acc-7207f42ca6ce"
      },
      "outputs": [
        {
          "name": "stdout",
          "output_type": "stream",
          "text": [
            "Baseline Training R^2: 0.27555056242697507\n",
            "Baseline Testing R^2: 0.35664291868109677\n",
            "Baseline Training RMSE: 7.143950117300888\n",
            "Baseline Testing RMSE: 7.189316160047872\n"
          ]
        }
      ],
      "source": [
        "#Baseline prediction\n",
        "#Ensuring X_train['Zh (dBZ)'] and X_test['Zh (dBZ)'] are in the correct scale before applying the baseline_prediction\n",
        "\n",
        "def baseline_prediction(Zh_dBZ):\n",
        "    # Convert Zh from dBZ to linear Z\n",
        "    Z_linear = 10**(Zh_dBZ / 10)\n",
        "    # Now apply the Z-R relationship\n",
        "    R = (Z_linear / 200)**(1/1.6)\n",
        "    return R\n",
        "\n",
        "\n",
        "baseline_train_pred = baseline_prediction(X_train['Zh (dBZ)'])\n",
        "baseline_test_pred = baseline_prediction(X_test['Zh (dBZ)'])\n",
        "\n",
        "print(\"Baseline Training R^2:\", r2_score(y_train, baseline_train_pred))\n",
        "print(\"Baseline Testing R^2:\", r2_score(y_test, baseline_test_pred))\n",
        "print(\"Baseline Training RMSE:\", np.sqrt(mean_squared_error(y_train, baseline_train_pred)))\n",
        "print(\"Baseline Testing RMSE:\", np.sqrt(mean_squared_error(y_test, baseline_test_pred)))"
      ]
    },
    {
      "cell_type": "code",
      "execution_count": null,
      "metadata": {
        "id": "GG09kUuVArgR"
      },
      "outputs": [],
      "source": [
        "#Grid search over polynomial orders\n",
        "\n",
        "from sklearn.preprocessing import PolynomialFeatures\n",
        "from sklearn.pipeline import make_pipeline\n",
        "from sklearn.model_selection import GridSearchCV\n",
        "from sklearn.linear_model import LinearRegression\n",
        "\n",
        "# Storing the best degree and score\n",
        "best_degree = None\n",
        "best_score = -np.inf\n",
        "\n",
        "# Defining the total range of degrees\n",
        "total_degrees = range(22)\n",
        "\n",
        "# Splitting the total degrees into smaller batches if needed\n",
        "degree_batches = [total_degrees[i:i+5] for i in range(0, len(total_degrees), 5)]\n",
        "\n",
        "for batch in degree_batches:\n",
        "    try:\n",
        "        # Defining the range of degrees for the grid search\n",
        "        poly_params = {'polynomialfeatures__degree': batch}\n",
        "\n",
        "        # Creating a pipeline with PolynomialFeatures and LinearRegression\n",
        "        poly_model = make_pipeline(PolynomialFeatures(), LinearRegression())\n",
        "\n",
        "        # Setting up the grid search with 7-fold cross-validation\n",
        "        poly_grid = GridSearchCV(poly_model, poly_params, cv=7, scoring='r2', n_jobs=1)\n",
        "\n",
        "        # Fitting the grid search to the training data\n",
        "        poly_grid.fit(X_train, y_train)\n",
        "\n",
        "        # Checking if the best score in this batch is better than the overall best score\n",
        "        if poly_grid.best_score_ > best_score:\n",
        "            best_score = poly_grid.best_score_\n",
        "            best_degree = poly_grid.best_params_['polynomialfeatures__degree']\n",
        "\n",
        "    except MemoryError:\n",
        "        print(f\"Memory error occurred with batch: {batch}\")\n",
        "        continue\n",
        "    except Exception as e:\n",
        "        print(f\"An error occurred with batch: {batch}: {e}\")\n",
        "        continue\n",
        "\n",
        "print(\"Best polynomial degree overall:\", best_degree)\n",
        "print(\"Best polynomial R^2 overall:\", best_score)"
      ]
    },
    {
      "cell_type": "code",
      "execution_count": null,
      "metadata": {
        "id": "CKdEVGCCBNib"
      },
      "outputs": [],
      "source": [
        "# Training a Random Forest Regressor with grid search\n",
        "\n",
        "from sklearn.ensemble import RandomForestRegressor\n",
        "\n",
        "rf_params = {\n",
        "    'bootstrap': [True, False],\n",
        "    'max_depth': [10, 20, 30, 40, 50, 60, 70, 80, 90, 100, None],\n",
        "    'max_features': ['auto', 'sqrt'],\n",
        "    'min_samples_leaf': [1, 2, 4],\n",
        "    'min_samples_split': [2, 5, 10],\n",
        "    'n_estimators': [200, 400, 600, 800, 1000, 1200, 1400, 1600, 1800, 2000]\n",
        "}\n",
        "\n",
        "rf = RandomForestRegressor(random_state=42)\n",
        "rf_grid = GridSearchCV(rf, rf_params, cv=3, scoring='r2', n_jobs=-1)\n",
        "rf_grid.fit(X_train, y_train)\n",
        "\n",
        "print(\"Best Random Forest parameters:\", rf_grid.best_params_)\n",
        "print(\"Best Random Forest R^2:\", rf_grid.best_score_)"
      ]
    }
  ],
  "metadata": {
    "colab": {
      "machine_shape": "hm",
      "provenance": []
    },
    "kernelspec": {
      "display_name": "Python 3",
      "name": "python3"
    },
    "language_info": {
      "codemirror_mode": {
        "name": "ipython",
        "version": 3
      },
      "file_extension": ".py",
      "mimetype": "text/x-python",
      "name": "python",
      "nbconvert_exporter": "python",
      "pygments_lexer": "ipython3",
      "version": "3.12.0"
    }
  },
  "nbformat": 4,
  "nbformat_minor": 0
}
